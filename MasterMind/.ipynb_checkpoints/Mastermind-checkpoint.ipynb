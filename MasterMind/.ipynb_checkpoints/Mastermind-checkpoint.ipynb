{
 "cells": [
  {
   "cell_type": "code",
   "execution_count": 49,
   "id": "88efb644-ff22-4837-b1df-59893b488981",
   "metadata": {},
   "outputs": [],
   "source": [
    "import numpy as np\n",
    "import itertools\n",
    "\n",
    "class Game:\n",
    "    def __init__(self, num_colors = 6, num_slots = 4):\n",
    "        self.num_colors = num_colors\n",
    "        self.num_slots = num_slots\n",
    "\n",
    "        self.colors = range(num_colors)\n",
    "        self.possible_slots = list(itertools.product(self.colors, repeat=self.num_slots))\n",
    "        self.answer = self.possible_slots[np.random.randint(len(self.possible_slots))]\n",
    "        print(self.answer)\n",
    "        #print(self.possible_slots)\n",
    "\n",
    "    def compare_guess(self, guess, ans = None):\n",
    "        info = [0,0,0,0]\n",
    "        if not ans:\n",
    "            ans = list(self.answer)\n",
    "            \n",
    "        for i in range(self.num_slots):\n",
    "            if guess[i] == ans[i]:\n",
    "                info[i] = 2\n",
    "                ans[i] = -1\n",
    "                guess[i] = -2\n",
    "        for i in range(self.num_slots):\n",
    "            if guess[i] in ans:\n",
    "                info[i] = 1\n",
    "                ans[ans.index(guess[i])] = -1\n",
    "                guess[i] = -2\n",
    "        return sorted(info)\n",
    "\n",
    "    def analyze_guess(self, guess):\n",
    "        result = self.compare_guess(guess)\n",
    "        for possible in self.possible_slots:\n",
    "            if not result == self.compare_guess(guess, list(possible)):\n",
    "                \n",
    "                self.possible_slots.remove(possible)\n",
    "            \n",
    "            \n",
    "        "
   ]
  },
  {
   "cell_type": "code",
   "execution_count": 58,
   "id": "ec5b1082-1e18-44c0-a4c4-406771b93ce4",
   "metadata": {},
   "outputs": [
    {
     "name": "stdout",
     "output_type": "stream",
     "text": [
      "(4, 2, 5, 1)\n"
     ]
    }
   ],
   "source": [
    "game = Game()\n"
   ]
  },
  {
   "cell_type": "code",
   "execution_count": 64,
   "id": "4b76481d-de4a-4e2b-8301-a7f39458a881",
   "metadata": {},
   "outputs": [
    {
     "name": "stdout",
     "output_type": "stream",
     "text": [
      "None\n",
      "1\n",
      "[(0, 0, 2, 3)]\n",
      "None\n"
     ]
    }
   ],
   "source": [
    "print(game.analyze_guess([2,5,3,2]))\n",
    "print(len(game.possible_slots))\n",
    "print(game.possible_slots)\n",
    "print(game.analyze_guess([2,5,3,2]))"
   ]
  },
  {
   "cell_type": "code",
   "execution_count": null,
   "id": "ab01905b-9b1c-4cd3-9c22-6a8cd080c295",
   "metadata": {},
   "outputs": [],
   "source": []
  }
 ],
 "metadata": {
  "kernelspec": {
   "display_name": "Python 3 (ipykernel)",
   "language": "python",
   "name": "python3"
  },
  "language_info": {
   "codemirror_mode": {
    "name": "ipython",
    "version": 3
   },
   "file_extension": ".py",
   "mimetype": "text/x-python",
   "name": "python",
   "nbconvert_exporter": "python",
   "pygments_lexer": "ipython3",
   "version": "3.11.7"
  }
 },
 "nbformat": 4,
 "nbformat_minor": 5
}
