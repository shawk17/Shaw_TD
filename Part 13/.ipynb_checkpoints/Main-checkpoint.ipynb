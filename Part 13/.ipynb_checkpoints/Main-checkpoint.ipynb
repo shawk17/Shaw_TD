{
 "cells": [
  {
   "cell_type": "code",
   "execution_count": null,
   "id": "231e6cc9-306f-44d7-a5a5-75408b7c545d",
   "metadata": {},
   "outputs": [],
   "source": []
  }
 ],
 "metadata": {
  "kernelspec": {
   "display_name": "Python 3 (ipykernel)",
   "language": "python",
   "name": "python3"
  },
  "language_info": {
   "codemirror_mode": {
    "name": "ipython",
    "version": 3
   },
   "file_extension": ".py",
   "mimetype": "text/x-python",
   "name": "python",
   "nbconvert_exporter": "python",
   "pygments_lexer": "ipython3",
   "version": "3.11.7"
  }
 },
 "nbformat": 4,
 "nbformat_minor": 5
}
